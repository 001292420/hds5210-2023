{
  "cells": [
    {
      "cell_type": "markdown",
      "metadata": {
        "id": "view-in-github",
        "colab_type": "text"
      },
      "source": [
        "<a href=\"https://colab.research.google.com/github/001292420/hds5210-2023/blob/main/midterm/midterm-2023.ipynb\" target=\"_parent\"><img src=\"https://colab.research.google.com/assets/colab-badge.svg\" alt=\"Open In Colab\"/></a>"
      ]
    },
    {
      "cell_type": "markdown",
      "metadata": {
        "id": "mYYt8ERyR6bw"
      },
      "source": [
        "# HDS5210-2022 Midterm\n",
        "\n",
        "In the midterm, you're going to use all the programming and data management skills you've developed so far to build a risk calculator that pretends to be integrated with a clinical registry.  You'll compute the PRIEST COVID-19 Clinical Severity Score for a series of patients and, based on their risk of an adverse outcome, query a REST web service to find a hospital to transfer them to. The end result of your work will be a list of instructions on where each patient should be discharged given their risk and various characteristics of the patient.\n",
        "\n",
        "Each step in the midterm will build up to form your complete solution.\n",
        "\n",
        "**Make sure you write good docstrings and doctests along the way!!**\n",
        "\n",
        "**The midterm is due at 11:59 PM CST on Monday, October 23rd.**\n",
        "\n",
        "---"
      ]
    },
    {
      "cell_type": "markdown",
      "metadata": {
        "id": "mrJwG3blR6bx"
      },
      "source": [
        "## Step 1: Calculate PRIEST Clinical Severity Score\n",
        "\n",
        "This scoring algorithm can be found [here on the MDCalc website](https://www.mdcalc.com/priest-covid-19-clinical-severity-score#evidence).  \n",
        "\n",
        "1. You will need to write a function called **priest()** with the following input parameters.  \n",
        " * Sex (Gender assigned at birth)\n",
        " * Age in years\n",
        " * Respiratory rate in breaths per minute\n",
        " * Oxygen saturation as a percent between 0 and 1\n",
        " * Heart rate in beats per minute\n",
        " * Systolic BP in mmHg\n",
        " * Temperature in degrees C\n",
        " * Alertness as a string description\n",
        " * Inspired Oxygen as as string description\n",
        " * Performance Status as a string description\n",
        "2. The function will need to follow the algorithm provided on the MDCalc website to compute a risk percentage that should be returned as a numeric value between 0 and 1.\n",
        "3. Be sure to use docstring documentation and at least three built-in docstring test cases.\n",
        "4. Assume that the input values that are strings could be any combination of upper or lower case. For example: 'male', 'Male', 'MALE', 'MalE' should all be interpretted by your code as male.\n",
        "5. If any of the inputs are invalid (for example a sex value that is not recognizable as male or female) your code should return None.\n",
        "\n",
        "NOTES:\n",
        "1. In the final step there is a table that translates from **PRIEST Score** to **30-day probability of an outcome** but the last two probabilities are shown as ranges (59-88% and >99%).  Our code needs to output a single number, however. For our code, use the following rule:\n",
        " * If PRIEST score is between 17 and 25, the probability you return should be 0.59\n",
        " * If PRIEST score is greater than or equal to 26, the probability you return should be 0.99\n"
      ]
    },
    {
      "cell_type": "code",
      "execution_count": 101,
      "metadata": {
        "id": "Ylbp-fffR6bx"
      },
      "outputs": [],
      "source": [
        "def priest(Sex,Age,resprate,oxysaturation,heartrate,systolic,temp,alertness,inspoxy,performance):\n",
        "  \"\"\"\n",
        "  (str,int,int,float,int,int,float,str,str,str) -> float\n",
        "  This function calculates the priest clinical severity score . First i defined the priest which contain different parameters such as sex,age,resprate,\n",
        "  oxysaturation,heartrate,systolic,temp,alertness,inspoxy,performance. Each input parameter is evaluated to adjust the risk score which shows the\n",
        "  patients percieved health risk.If any of the parameters fall outside the expected ranges the function may return none.\n",
        "  The function  returns a numerical risk value, ranging from 0.01 to 0.99 .\n",
        "\n",
        "  >>> priest('male',26,18,0.97,72,130,37.2,'Alert','Air','Unrestricted normal activity')\n",
        "  0.01\n",
        "\n",
        "  >>> priest('male',20,17,0.94,74,129,36.4,'not alert','supplemental oxygen','unrestricted normal activity')\n",
        "  0.18\n",
        "\n",
        "  >>> priest('female',21,18,0.92,73,126,39.4,'Confused','Air','limited self-care')\n",
        "  0.34\n",
        "\n",
        "\n",
        "\n",
        "\n",
        "  \"\"\"\n",
        "  count=0\n",
        "  if(Sex.lower()=='male'):\n",
        "    count=count+1\n",
        "  elif(Sex.lower=='female'):\n",
        "    count=count+0\n",
        "\n",
        "  if(Age>=16 and Age<=49):\n",
        "    count=count\n",
        "  elif(Age>=50 and Age<=65):\n",
        "    count+=2\n",
        "  elif(Age>=66 and Age<=80):\n",
        "    count+=3\n",
        "  else:\n",
        "    count+=4\n",
        "\n",
        "  if(resprate<9):\n",
        "    count=count+3\n",
        "  elif(resprate>=9 and resprate<=11):\n",
        "    count+=1\n",
        "  elif(resprate>=12 and resprate<=20):\n",
        "    count+=0\n",
        "  elif(resprate>=21 and resprate<=24):\n",
        "    count+=2\n",
        "  else:\n",
        "    count+=3\n",
        "\n",
        "  if(oxysaturation>0.95):\n",
        "    count=count\n",
        "  elif(oxysaturation>=0.94 and oxysaturation<=0.95):\n",
        "    count+=1\n",
        "  elif(oxysaturation>=0.92 and Age<=0.93):\n",
        "    count+=2\n",
        "  else:\n",
        "    count+=3\n",
        "\n",
        "  if(heartrate<41):\n",
        "    count=count+3\n",
        "  elif(heartrate>=41 and heartrate<=50):\n",
        "    count+=1\n",
        "  elif(heartrate>=51 and heartrate<=90):\n",
        "    count+=0\n",
        "  elif(heartrate>=91 and heartrate<=110):\n",
        "    count+=1\n",
        "  elif(heartrate>=111 and heartrate<=130):\n",
        "    count+=2\n",
        "  else:\n",
        "    count+=3\n",
        "\n",
        "  if(systolic<91):\n",
        "    count=count+3\n",
        "  elif(systolic>=91 and systolic<=100):\n",
        "    count+=2\n",
        "  elif(systolic>=101 and systolic<=110):\n",
        "    count+=1\n",
        "  elif(systolic>=111 and systolic<=219):\n",
        "    count+=0\n",
        "  else:\n",
        "    count+=3\n",
        "\n",
        "  if(temp<35.1):\n",
        "    count=count+3\n",
        "  elif(temp>=35.1 and temp<=36):\n",
        "    count+=1\n",
        "  elif(temp>=36.1 and temp<=38):\n",
        "    count+=0\n",
        "  elif(temp>=38.1 and temp<=39):\n",
        "    count+=1\n",
        "  else:\n",
        "    count+=2\n",
        "\n",
        "  if(alertness.title()==\"Alert\"):\n",
        "    count+=0\n",
        "  elif(alertness.title()==\"Confused\" or alertness.lower()==\"not alert\"):\n",
        "    count+=3\n",
        "  else:\n",
        "    return None\n",
        "\n",
        "  if(inspoxy.title()==\"Air\"):\n",
        "    count+=0\n",
        "  elif(inspoxy.title()==\"Supplemental Oxygen\"):\n",
        "    count+=2\n",
        "  else:\n",
        "    return None\n",
        "\n",
        "  if(performance.lower()==\"unrestricted normal activity\"):\n",
        "    count+=0\n",
        "  elif(performance.lower()==\"limited strenuous activity\" or performance.lower()==\"can do light activity\"):\n",
        "    count+=1\n",
        "  elif(performance.lower()==\"limited activity\" or performance.lower()==\"can self-care\"):\n",
        "    count+=2\n",
        "  elif(performance.lower()==\"limited self-care\"):\n",
        "    count+=3\n",
        "  elif(performance.lower()==\"bed/chair bound\" or performance.lower()==\"no self-care\"):\n",
        "    count+=4\n",
        "  else:\n",
        "    return None\n",
        "\n",
        "  if count==0 or count==1:\n",
        "    return 0.01\n",
        "  elif count==2 or count==3:\n",
        "    return 0.02\n",
        "  elif count==4:\n",
        "    return 0.03\n",
        "  elif count==5:\n",
        "    return 0.09\n",
        "  elif count==6:\n",
        "    return 0.15\n",
        "  elif count==7:\n",
        "    return 0.18\n",
        "  elif count==8:\n",
        "    return 0.22\n",
        "  elif count==9:\n",
        "    return 0.26\n",
        "  elif count==10:\n",
        "    return 0.29\n",
        "  elif count==11:\n",
        "    return 0.34\n",
        "  elif count==12:\n",
        "    return 0.38\n",
        "  elif count==13:\n",
        "    return 0.46\n",
        "  elif count==14:\n",
        "    return 0.47\n",
        "  elif count==15:\n",
        "    return 0.49\n",
        "  elif count==16:\n",
        "    return 0.55\n",
        "  elif(count>=17 and count<=25):\n",
        "    print(count)\n",
        "    return 0.59\n",
        "  else:\n",
        "    print(count)\n",
        "    return 0.99\n",
        "\n"
      ]
    },
    {
      "cell_type": "code",
      "source": [
        "priest('male',26,18,0.97,72,130,37.2,'Alert','Air','unrestrictEd normal activity')\n"
      ],
      "metadata": {
        "colab": {
          "base_uri": "https://localhost:8080/"
        },
        "id": "kYIE-o-IfJYT",
        "outputId": "cc736fcd-e88e-44e4-f61c-a1f905fce55f"
      },
      "execution_count": 102,
      "outputs": [
        {
          "output_type": "execute_result",
          "data": {
            "text/plain": [
              "0.01"
            ]
          },
          "metadata": {},
          "execution_count": 102
        }
      ]
    },
    {
      "cell_type": "code",
      "source": [
        "priest('male',20,17,0.94,74,140,36.4,'not alert','supplemental oxygen','unrestricted normal activity')"
      ],
      "metadata": {
        "colab": {
          "base_uri": "https://localhost:8080/"
        },
        "id": "GhCz-Ewog1Mk",
        "outputId": "b1c9912c-028c-4166-8152-64ff69144007"
      },
      "execution_count": 103,
      "outputs": [
        {
          "output_type": "execute_result",
          "data": {
            "text/plain": [
              "0.18"
            ]
          },
          "metadata": {},
          "execution_count": 103
        }
      ]
    },
    {
      "cell_type": "code",
      "source": [
        "priest('female',21,18,0.92,73,126,39.4,'Confused','Air','limited self-care')"
      ],
      "metadata": {
        "colab": {
          "base_uri": "https://localhost:8080/"
        },
        "id": "xPVfRWMoiv7m",
        "outputId": "8383fcee-0b1e-43dd-990e-85173dd9aa6e"
      },
      "execution_count": 104,
      "outputs": [
        {
          "output_type": "execute_result",
          "data": {
            "text/plain": [
              "0.34"
            ]
          },
          "metadata": {},
          "execution_count": 104
        }
      ]
    },
    {
      "cell_type": "code",
      "execution_count": 105,
      "metadata": {
        "colab": {
          "base_uri": "https://localhost:8080/"
        },
        "id": "-CEoIBFkR6bx",
        "outputId": "e1cf94cb-62f1-457e-dab9-70aa5b3d9efb"
      },
      "outputs": [
        {
          "output_type": "stream",
          "name": "stderr",
          "text": [
            "\n",
            "PYDEV DEBUGGER WARNING:\n",
            "sys.settrace() should not be used when the debugger is being used.\n",
            "This may cause the debugger to stop working correctly.\n",
            "If this is needed, please check: \n",
            "http://pydev.blogspot.com/2007/06/why-cant-pydev-debugger-work-with.html\n",
            "to see how to restore the debug tracing back correctly.\n",
            "Call Location:\n",
            "  File \"/usr/lib/python3.10/doctest.py\", line 1501, in run\n",
            "    sys.settrace(save_trace)\n",
            "\n"
          ]
        },
        {
          "output_type": "stream",
          "name": "stdout",
          "text": [
            "Finding tests in NoName\n",
            "Trying:\n",
            "    priest('male',26,18,0.97,72,130,37.2,'Alert','Air','Unrestricted normal activity')\n",
            "Expecting:\n",
            "    0.01\n",
            "ok\n",
            "Trying:\n",
            "    priest('male',20,17,0.94,74,129,36.4,'not alert','supplemental oxygen','unrestricted normal activity')\n",
            "Expecting:\n",
            "    0.18\n",
            "ok\n",
            "Trying:\n",
            "    priest('female',21,18,0.92,73,126,39.4,'Confused','Air','limited self-care')\n",
            "Expecting:\n",
            "    0.34\n",
            "ok\n"
          ]
        }
      ],
      "source": [
        "import doctest\n",
        "doctest.run_docstring_examples(priest, globals(),verbose=True)\n",
        "\n"
      ]
    },
    {
      "cell_type": "markdown",
      "metadata": {
        "id": "Pl2b49xeR6bx"
      },
      "source": [
        "## Part 2: Find a hospital\n",
        "\n",
        "The next thing we have to do is figure out where to send this particular patient.  The guidelines on where to send a patient are based on their age (pediatric, adult, geriatric), sex, and risk percentage.  Luckily, you don't have to implement these rules. I already have. All you have to do is use a REST web service that I've created for you.\n",
        "\n",
        "You'll want to use Python to make a call to my REST web service similar to the example URL below. The first part of the URL will be the same for everyone and every request that you make. What you will need to modify for each of your requests is the information after the question mark.\n",
        "\n",
        "```\n",
        "https://oumdj6oci2.execute-api.us-east-1.amazonaws.com/prd/?age=40&sex=male&risk_pct=0.1\n",
        "```\n",
        "\n",
        "The example above asks my web service where a 40-year old male with a risk of 10% should go.  What the web service will return back is a JSON string containing the information you need.  That JSON will look like this:\n",
        "\n",
        "```json\n",
        "{\n",
        "  \"age\": \"40\",\n",
        "  \"sex\": \"male\",\n",
        "  \"risk\": \"0.1\",\n",
        "  \"hospital\": \"Southwest Hospital and Medical Center\"\n",
        "}\n",
        "```\n",
        "\n",
        "My function is not smart enough to understand `'MALE'` is the same as `'male'`.  You have to send it exactly `'male'` or `'female'`\n",
        "\n",
        "1. Your job is to write a function called **find_hospital()** that takes age, sex, and risk as parameters.\n",
        "2. Your function should call this REST web service using the `requests` module\n",
        "3. Then your function will need to interpret the JSON it gets and return just the name of the hospital\n",
        "4. If anything fails, return None\n",
        "5. Include a good docstring with at least three test cases.\n"
      ]
    },
    {
      "cell_type": "code",
      "execution_count": 227,
      "metadata": {
        "id": "9KUzl2r3R6by"
      },
      "outputs": [],
      "source": [
        "import requests\n",
        "def find_hospital(age,sex,risk):\n",
        "  \"\"\"\n",
        "  ('int','str','float') -> str\n",
        "  Here we have to find a hospital  based on patient information.First we have to import requests and define find_hospital which contains age,sex,risk.using\n",
        "  the request module we have to include the web url then we have to explain the json it gets and the return the name of hospital.The function returns a string,\n",
        "  which is the name of the recommended hospital for the patient. Any inaccurate input parameters may lead to incorrect hospital recommendations and returns none.\n",
        "\n",
        "  >>> find_hospital(30,'female',0.3)\n",
        "  'Select Specialty Hospital - Northeast Atlanta'\n",
        "\n",
        "  >>> find_hospital(21,'female',0.3)\n",
        "  'Select Specialty Hospital - Northeast Atlanta'\n",
        "\n",
        "  >>> find_hospital(45,'male',0.8)\n",
        "  'Emory Dunwoody Medical Center'\n",
        "\n",
        "  >>> find_hospital(40,'male',2)\n",
        "  True\n",
        "\n",
        "\n",
        "\n",
        "\n",
        "\n",
        "\n",
        "  \"\"\"\n",
        "  x=requests.get(f'https://oumdj6oci2.execute-api.us-east-1.amazonaws.com/prd/?age={age}&sex={sex}&risk_pct={risk}')\n",
        "  if risk is None or risk >= 1 or risk < 0.01:\n",
        "    return True\n",
        "  else:\n",
        "    return x.json().get('hospital')\n",
        "\n",
        "\n",
        "\n",
        "\n",
        "\n"
      ]
    },
    {
      "cell_type": "code",
      "source": [
        "find_hospital(30,'female',0.3)"
      ],
      "metadata": {
        "colab": {
          "base_uri": "https://localhost:8080/",
          "height": 35
        },
        "id": "vOG_vSwxVj5K",
        "outputId": "53cfe3f1-69d0-4729-fd1d-e61b67e151d6"
      },
      "execution_count": 228,
      "outputs": [
        {
          "output_type": "execute_result",
          "data": {
            "text/plain": [
              "'Select Specialty Hospital - Northeast Atlanta'"
            ],
            "application/vnd.google.colaboratory.intrinsic+json": {
              "type": "string"
            }
          },
          "metadata": {},
          "execution_count": 228
        }
      ]
    },
    {
      "cell_type": "code",
      "source": [
        "find_hospital(21,'female',0.3)"
      ],
      "metadata": {
        "colab": {
          "base_uri": "https://localhost:8080/",
          "height": 35
        },
        "id": "zAv-nsQuW3rV",
        "outputId": "f738ad02-9add-4ec0-fe58-c21219fb8c7e"
      },
      "execution_count": 229,
      "outputs": [
        {
          "output_type": "execute_result",
          "data": {
            "text/plain": [
              "'Select Specialty Hospital - Northeast Atlanta'"
            ],
            "application/vnd.google.colaboratory.intrinsic+json": {
              "type": "string"
            }
          },
          "metadata": {},
          "execution_count": 229
        }
      ]
    },
    {
      "cell_type": "code",
      "source": [
        "find_hospital(45,'male',0.8)"
      ],
      "metadata": {
        "colab": {
          "base_uri": "https://localhost:8080/",
          "height": 35
        },
        "id": "YRQ94Xp1XDob",
        "outputId": "cccff779-58e6-461e-c50c-78eab70f6496"
      },
      "execution_count": 230,
      "outputs": [
        {
          "output_type": "execute_result",
          "data": {
            "text/plain": [
              "'Emory Dunwoody Medical Center'"
            ],
            "application/vnd.google.colaboratory.intrinsic+json": {
              "type": "string"
            }
          },
          "metadata": {},
          "execution_count": 230
        }
      ]
    },
    {
      "cell_type": "code",
      "source": [
        "find_hospital(40,'male',2)"
      ],
      "metadata": {
        "colab": {
          "base_uri": "https://localhost:8080/"
        },
        "id": "VRGXJJyjY6CY",
        "outputId": "0e1ee961-b5ae-4fb7-bb28-a628c1e4aeb7"
      },
      "execution_count": 231,
      "outputs": [
        {
          "output_type": "execute_result",
          "data": {
            "text/plain": [
              "True"
            ]
          },
          "metadata": {},
          "execution_count": 231
        }
      ]
    },
    {
      "cell_type": "code",
      "execution_count": 232,
      "metadata": {
        "colab": {
          "base_uri": "https://localhost:8080/"
        },
        "id": "6V8jhqJQR6by",
        "outputId": "3273067d-f6b9-4f45-93f1-4f158268ea38"
      },
      "outputs": [
        {
          "output_type": "stream",
          "name": "stdout",
          "text": [
            "Finding tests in NoName\n",
            "Trying:\n",
            "    find_hospital(30,'female',0.3)\n",
            "Expecting:\n",
            "    'Select Specialty Hospital - Northeast Atlanta'\n",
            "ok\n",
            "Trying:\n",
            "    find_hospital(21,'female',0.3)\n",
            "Expecting:\n",
            "    'Select Specialty Hospital - Northeast Atlanta'\n",
            "ok\n",
            "Trying:\n",
            "    find_hospital(45,'male',0.8)\n",
            "Expecting:\n",
            "    'Emory Dunwoody Medical Center'\n",
            "ok\n",
            "Trying:\n",
            "    find_hospital(40,'male',2) \n",
            "Expecting:\n",
            "    True\n",
            "ok\n"
          ]
        }
      ],
      "source": [
        "import doctest\n",
        "doctest.run_docstring_examples(find_hospital, globals(),verbose=True)"
      ]
    },
    {
      "cell_type": "markdown",
      "metadata": {
        "id": "cMR9DHT_R6by"
      },
      "source": [
        "## Part 3: Get the address for that hospital from a JSON file\n",
        "\n",
        "Great! Now we have code to tell us which hospital to send someone to... but we don't know where that hospital is. The next function we need to create is one that looks up the address of that hospital.  All of these hospitals are in Atlanta, Georgia.  We're going to use the list from this webpage to lookup the address for that hospital, based on its name.  https://www.officialusa.com/stateguides/health/hospitals/georgia.html\n",
        "\n",
        "Because we skipped the section about Beautiful Soup and working with HTML, I've converted this information into a JSON document for you.  It's available for you here.  Your code should retrieve this file using the `requests` module.\n",
        "\n",
        "`https://drive.google.com/uc?export=download&id=1fIFD-NkcdiMu941N4GjyMDWxiKsFJBw-`\n",
        "\n",
        "1. You need to create a function called **get_address()** that takes hospital name as a parameter and searches the data from this JSON file for the hospital you want to find.\n",
        "2. Your code will have to load the JSON and return the correct hospital based on name.\n",
        "3. If the hospital name isn't found, the function should return None.\n",
        "4. Be sure to use good docstring documentation and includes at least 3 test cases."
      ]
    },
    {
      "cell_type": "code",
      "execution_count": 239,
      "metadata": {
        "id": "27JMKSgoR6by"
      },
      "outputs": [],
      "source": [
        "import requests\n",
        "def get_address(hospital):\n",
        "  \"\"\"\n",
        "  (str) -> str\n",
        "  Here we have to get the address for the hospital.First we have to import the request module and create a function called get_address which contain\n",
        "  hospital as a parameter.Hospital list is equal to request get web url. Hospital is equal to hospital.upper which means hospital address will get only\n",
        "  if we give the hospital name in uppercase as they are in uppercase else it returns none.\n",
        "\n",
        "  >>> get_address('SATILLA PARK HOSPITAL')\n",
        "  '2500 SATILLA PARKWAY'\n",
        "\n",
        "  >>> get_address('CANDLER COUNTY HOSPITAL')\n",
        "  '400 CEDAR ROAD'\n",
        "\n",
        "  >>> get_address('ELBER MEMORIAL HOSPITAL') is None\n",
        "  True\n",
        "\n",
        "\n",
        "  \"\"\"\n",
        "  hospital_list = requests.get('https://drive.google.com/uc?export=download&id=1fIFD-NkcdiMu941N4GjyMDWxiKsFJBw-')\n",
        "  hospital_list.raise_for_status()\n",
        "  hospitals = hospital_list.json()\n",
        "  if hospital in hospitals:\n",
        "    return hospitals[hospital]['ADDRESS']\n",
        "  else:\n",
        "    return None\n",
        ""
      ]
    },
    {
      "cell_type": "code",
      "source": [
        "get_address('ELBER MEMORIAL HOSPITAL')"
      ],
      "metadata": {
        "id": "i0jad4pmsUFQ"
      },
      "execution_count": 240,
      "outputs": []
    },
    {
      "cell_type": "code",
      "source": [
        "get_address('SATILLA PARK HOSPITAL')"
      ],
      "metadata": {
        "colab": {
          "base_uri": "https://localhost:8080/",
          "height": 35
        },
        "id": "RV6TznI2tTQL",
        "outputId": "f2817a45-8fc4-47bf-8904-4559aa19c06f"
      },
      "execution_count": 241,
      "outputs": [
        {
          "output_type": "execute_result",
          "data": {
            "text/plain": [
              "'2500 SATILLA PARKWAY'"
            ],
            "application/vnd.google.colaboratory.intrinsic+json": {
              "type": "string"
            }
          },
          "metadata": {},
          "execution_count": 241
        }
      ]
    },
    {
      "cell_type": "code",
      "source": [
        "get_address('CANDLER COUNTY HOSPITAL')"
      ],
      "metadata": {
        "colab": {
          "base_uri": "https://localhost:8080/",
          "height": 35
        },
        "id": "IOPmojnFsB-o",
        "outputId": "ece2af84-9f83-4947-868a-8fa87cacdb6c"
      },
      "execution_count": 242,
      "outputs": [
        {
          "output_type": "execute_result",
          "data": {
            "text/plain": [
              "'400 CEDAR ROAD'"
            ],
            "application/vnd.google.colaboratory.intrinsic+json": {
              "type": "string"
            }
          },
          "metadata": {},
          "execution_count": 242
        }
      ]
    },
    {
      "cell_type": "code",
      "source": [
        "import doctest\n",
        "doctest.run_docstring_examples(get_address, globals(),verbose=True)"
      ],
      "metadata": {
        "colab": {
          "base_uri": "https://localhost:8080/"
        },
        "id": "7U3FAIi5thB-",
        "outputId": "70e9e325-02a6-4217-d5e3-2aee835512c5"
      },
      "execution_count": 243,
      "outputs": [
        {
          "output_type": "stream",
          "name": "stdout",
          "text": [
            "Finding tests in NoName\n",
            "Trying:\n",
            "    get_address('SATILLA PARK HOSPITAL')\n",
            "Expecting:\n",
            "    '2500 SATILLA PARKWAY'\n",
            "ok\n",
            "Trying:\n",
            "    get_address('CANDLER COUNTY HOSPITAL')\n",
            "Expecting:\n",
            "    '400 CEDAR ROAD'\n",
            "ok\n",
            "Trying:\n",
            "    get_address('ELBER MEMORIAL HOSPITAL') is None \n",
            "Expecting:\n",
            "    True\n",
            "ok\n"
          ]
        }
      ]
    },
    {
      "cell_type": "markdown",
      "metadata": {
        "id": "--92bgPoR6by"
      },
      "source": [
        "## Part 4: Run the risk calculator on a population\n",
        "\n",
        "At the link below, there is a file called `people.psv`.  It is a pipe-delimited (`|`) file with columns that match the inputs for the PRIEST calculation above.  Your code should use the `requests` module to retrieve the file from this URL.\n",
        "\n",
        "`https://drive.google.com/uc?export=download&id=1fLxJN9YGUqmqExrilxSS8furwUER5HHh`\n",
        "\n",
        "\n",
        "In addition, the file has a patient identifier in the first column.\n",
        "\n",
        "1. Write a function called **process_people()** that takes the file location above as its only parameter. Your Python program should use your code above to process all of these rows, determine the hospital and address, and return a list whose items are a dictionary like this: `{ patient_number: [sex, age, breath, o2sat, heart, systolic, temp, alertness, inspired, status, hospital, address]}`.  Look at the file in Part 5 for what the output looks like.\n",
        "2. Be sure to use good docstrings, but you don't need any tests in your doc strings.  I've provided those for you withe file in Part 5.\n",
        "\n",
        "\n",
        "**NOTE** that when running your code for all the 100 records in the `people.psv` file, it may take a few minutes to complete.  You're making multiple calls to the internet for each record, so that can take a little while.\n"
      ]
    },
    {
      "cell_type": "code",
      "source": [
        "import requests\n",
        "import csv\n",
        "from io import StringIO\n",
        "\n",
        "def process_people(file_location):\n",
        "    result = []\n",
        "    columns_to_extract = [\"patient\", \"sex\", \"age\", \"breath\", \"o2 sat\", \"heart\", \"systolic bp\", \"temp\", \"alertness\", \"inspired\", \"status\"]\n",
        "    response = requests.get(file_location)\n",
        "    if response.status_code == 200:\n",
        "        data = response.text\n",
        "        data_io = StringIO(data)\n",
        "        csv_reader = csv.DictReader(data_io, delimiter='|')\n",
        "        for row in csv_reader:\n",
        "            selected_data = {column: row[column] for column in columns_to_extract}\n",
        "            result.append(selected_data)\n",
        "    else:\n",
        "        print(\"Failed to retrieve data. Status code:\", response.status_code)\n",
        "    from collections import defaultdict\n",
        "    result_dict = defaultdict(list)\n",
        "    for d in result:\n",
        "        val=d['patient']\n",
        "        agen=d['age']\n",
        "        sexb=d['sex']\n",
        "        riskn=priest(sexb, int(agen), float(d['breath']), float(d['o2 sat']), float(d['heart']), float(d['systolic bp']), float(d['temp']), d['alertness'], d['inspired'], d['status'])\n",
        "\n",
        "        for key, value in d.items():\n",
        "            if key!='patient':\n",
        "                result_dict[val].append(value)\n",
        "        result_dict[val].append(find_hospital(agen,sexb,riskn))\n",
        "        result_dict[val].append(get_address(find_hospital(agen,sexb,riskn)))\n",
        "    return result_dict\n",
        "\n",
        "file_location = \"https://drive.google.com/uc?export=download&id=1fLxJN9YGUqmqExrilxSS8furwUER5HHh\"\n",
        "data = process_people(file_location)\n",
        "print(data)\n",
        "\n",
        ""
      ],
      "metadata": {
        "colab": {
          "base_uri": "https://localhost:8080/"
        },
        "id": "15V9PrPeh_u_",
        "outputId": "e1e1c4c6-d198-484a-90c7-91fbe2b8a42b"
      },
      "execution_count": 277,
      "outputs": [
        {
          "output_type": "stream",
          "name": "stdout",
          "text": [
            "Failed to retrieve data. Status code: 403\n",
            "defaultdict(<class 'list'>, {})\n"
          ]
        }
      ]
    },
    {
      "cell_type": "code",
      "execution_count": 138,
      "metadata": {
        "id": "5ca3F0lMR6by"
      },
      "outputs": [],
      "source": []
    },
    {
      "cell_type": "markdown",
      "metadata": {
        "id": "Qo77uKR7R6by"
      },
      "source": [
        "## Part 5: Checking your final results\n",
        "\n",
        "The final step is to check your results.  You should be able to compare your results to the output in `people_results.json` at the link below.  Write some code to check your results.  This does not need to be a function.\n",
        "\n",
        "`https://drive.google.com/uc?export=download&id=1gx1SSC20mO5XL6uYD0mdcM_cL91fcIW5`\n"
      ]
    },
    {
      "cell_type": "code",
      "execution_count": 275,
      "metadata": {
        "colab": {
          "base_uri": "https://localhost:8080/"
        },
        "id": "wa2cWuCWR6by",
        "outputId": "ea0402ec-7ac3-44cf-d155-d7ab25c442e2"
      },
      "outputs": [
        {
          "output_type": "stream",
          "name": "stdout",
          "text": [
            "Failed to retrieve data. Status code: 403\n"
          ]
        }
      ],
      "source": [
        "file_location = \"https://drive.google.com/uc?export=download&id=1fLxJN9YGUqmqExrilxSS8furwUER5HHh\"\n",
        "data = process_people(file_location)\n",
        "\n",
        "\n",
        "\n"
      ]
    },
    {
      "cell_type": "code",
      "source": [
        "import requests\n",
        "x=requests.get('https://hds5210-data.s3.amazonaws.com/people_results.json')\n",
        "y=x.json()\n",
        "if y==data:\n",
        "    print(\"equal\")\n",
        "else:\n",
        "    print(\"not equal \")"
      ],
      "metadata": {
        "id": "-405VtqwkaF5",
        "outputId": "83047a2d-befd-472b-bc25-e37852bff85f",
        "colab": {
          "base_uri": "https://localhost:8080/"
        }
      },
      "execution_count": 276,
      "outputs": [
        {
          "output_type": "stream",
          "name": "stdout",
          "text": [
            "not equal \n"
          ]
        }
      ]
    },
    {
      "cell_type": "markdown",
      "metadata": {
        "id": "Lemk4oeFR6by"
      },
      "source": [
        "---\n",
        "\n",
        "## Check your work above\n",
        "\n",
        "If you didn't get them all correct, take a few minutes to think through those that aren't correct.\n",
        "\n",
        "\n",
        "## Submitting Your Work\n",
        "\n",
        "Submit your work as usual into a folder named `midterm`"
      ]
    },
    {
      "cell_type": "markdown",
      "metadata": {
        "id": "ivkAu8fwR6by"
      },
      "source": [
        "---"
      ]
    }
  ],
  "metadata": {
    "kernelspec": {
      "display_name": "Python 3",
      "language": "python",
      "name": "python3"
    },
    "language_info": {
      "codemirror_mode": {
        "name": "ipython",
        "version": 3
      },
      "file_extension": ".py",
      "mimetype": "text/x-python",
      "name": "python",
      "nbconvert_exporter": "python",
      "pygments_lexer": "ipython3",
      "version": "3.9.16"
    },
    "colab": {
      "provenance": [],
      "include_colab_link": true
    }
  },
  "nbformat": 4,
  "nbformat_minor": 0
}
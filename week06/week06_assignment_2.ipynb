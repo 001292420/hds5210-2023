{
  "cells": [
    {
      "cell_type": "markdown",
      "metadata": {
        "id": "view-in-github",
        "colab_type": "text"
      },
      "source": [
        "<a href=\"https://colab.research.google.com/github/001292420/hds5210-2023/blob/main/week06/week06_assignment_2.ipynb\" target=\"_parent\"><img src=\"https://colab.research.google.com/assets/colab-badge.svg\" alt=\"Open In Colab\"/></a>"
      ]
    },
    {
      "cell_type": "markdown",
      "metadata": {
        "nbgrader": {
          "grade": false,
          "grade_id": "intro",
          "locked": true,
          "schema_version": 1,
          "solution": false
        },
        "id": "KvqQunv86rAK"
      },
      "source": [
        "# Week 6 Exercises\n",
        "\n",
        "_McKinney 6.1_\n",
        "\n",
        "There are multiple ways to solve the problems below.  You can use any one of several approaches.  For example, you can read CSV files using Pandas or the csv module.  Your score won't depend on which modules you choose to use unless explicitly noted below, but your programming style will still matter."
      ]
    },
    {
      "cell_type": "markdown",
      "metadata": {
        "nbgrader": {
          "grade": false,
          "grade_id": "q1-description",
          "locked": true,
          "schema_version": 1,
          "solution": false
        },
        "id": "RibcPtjf6rAL"
      },
      "source": [
        "### 30.1 List of Allergies\n",
        "\n",
        "In this GitHub repository, there is a file called `allergies.json` that contains a list of patient allergies.  You will need to download this [file from here](https://raw.githubusercontent.com/paulboal/hds5210-2023/main/week06/allergies.json) and then upload it into Google Colab to run these examples. It is taken from sample data provided by the EHR vendor, Epic, here: https://open.epic.com/Clinical/Allergy\n",
        "\n",
        "Take some time to look at the structure of the file.  You can open it directly in Jupyter by clicking the _Home_ icon, then the _from_instructor_ folder, and then the _data_ folder.\n",
        "\n",
        "Within the file, you'll see that it is a dictionary with many items in it.  One of those items is called `entry` and that item is a list of things.  You can tell that because the item name is immediately followed by an opening square bracket, signifying the start of a list.  It's line 11 of the file: `  \"entry\": [`\n",
        "\n",
        "Write a function named `allergy_count(json_file)` that takes as one parameter the name of the JSON file and returns an integer number of entries in that file.  Your function should open the file, read the json into a Python object, and return how many items there are in the list of `entry`s."
      ]
    },
    {
      "cell_type": "code",
      "execution_count": 42,
      "metadata": {
        "id": "fe6dVnZg6rAL"
      },
      "outputs": [],
      "source": [
        "import json\n",
        "ALLERGIES_FILE=json.load(open('allergy.json'))"
      ]
    },
    {
      "cell_type": "code",
      "execution_count": 94,
      "metadata": {
        "nbgrader": {
          "grade": false,
          "grade_id": "q1-answer",
          "locked": false,
          "schema_version": 1,
          "solution": true
        },
        "id": "dpm9hvmY6rAL"
      },
      "outputs": [],
      "source": [
        "# Put your solution here\n",
        "def allergy_count(allergyjson):\n",
        "  \"\"\"\n",
        "  (dict) -> int\n",
        "  Here, we start by setting the patient list to 0 and then use a for loop to index patients from the allergy file.\n",
        "  Next, we use an if condition to check patient entries and resources in the dictionary, and if the status is confirmed, we increment the patient_list to 1.\n",
        "  Finally, we return the patient_list at the end of the for loop to calculate the total number of allergies.\n",
        "\n",
        "\n",
        "  >>> allergy_count(ALLERGIES_FILE)\n",
        "  4\n",
        "  \"\"\"\n",
        "  patient_list=0\n",
        "  for  patient_entries in range(len(ALLERGIES_FILE['entry'])):\n",
        "    if ALLERGIES_FILE['entry'][patient_entries]['resource']['status']=='confirmed':\n",
        "      patient_list=patient_list+1\n",
        "  return patient_list"
      ]
    },
    {
      "cell_type": "code",
      "execution_count": 95,
      "metadata": {
        "id": "mv-hmcbI6rAL",
        "outputId": "994546de-3080-487b-d9d3-e1bd8aaf3084",
        "colab": {
          "base_uri": "https://localhost:8080/"
        }
      },
      "outputs": [
        {
          "output_type": "execute_result",
          "data": {
            "text/plain": [
              "4"
            ]
          },
          "metadata": {},
          "execution_count": 95
        }
      ],
      "source": [
        "allergy_count(ALLERGIES_FILE)"
      ]
    },
    {
      "cell_type": "code",
      "execution_count": 96,
      "metadata": {
        "nbgrader": {
          "grade": true,
          "grade_id": "q1-tests",
          "locked": true,
          "points": 5,
          "schema_version": 1,
          "solution": false
        },
        "id": "C3MlQVS26rAM"
      },
      "outputs": [],
      "source": [
        "assert type(allergy_count(ALLERGIES_FILE)) == int\n",
        "assert allergy_count(ALLERGIES_FILE) == 4\n"
      ]
    },
    {
      "cell_type": "code",
      "source": [
        "import doctest\n",
        "doctest.run_docstring_examples(allergy_count,globals(),verbose=True)"
      ],
      "metadata": {
        "id": "DRw5UNjC-Ocf",
        "outputId": "4ec19345-3a73-42e3-e964-90a1904a477e",
        "colab": {
          "base_uri": "https://localhost:8080/"
        }
      },
      "execution_count": 97,
      "outputs": [
        {
          "output_type": "stream",
          "name": "stdout",
          "text": [
            "Finding tests in NoName\n",
            "Trying:\n",
            "    allergy_count(ALLERGIES_FILE)\n",
            "Expecting:\n",
            "    4\n",
            "ok\n"
          ]
        }
      ]
    },
    {
      "cell_type": "markdown",
      "metadata": {
        "id": "JNtLlk306rAM"
      },
      "source": [
        "### 30.2 Number of Patients\n",
        "\n",
        "If you dig a little bit deaper into this list of allergies, you'll see that each result has a patient associated with it.  Create a funcation called `patient_count(json_file)` that will count how many unique patients we have in this JSON structure.  "
      ]
    },
    {
      "cell_type": "code",
      "execution_count": 72,
      "metadata": {
        "id": "5Wy_u3Gd6rAM"
      },
      "outputs": [],
      "source": [
        "# Put your solution here\n",
        "def patient_count(ALLERGIES_FILE):\n",
        "  \"\"\"\n",
        "  (dict)-> int\n",
        "\n",
        "  Here this function calculates the number of unique patients in the list of allergy.\n",
        "  first we are creating the empty patients.\n",
        "  By using for loop i in the allergies file append the resource , patient, and display in i .\n",
        "  Then we are giving the patients is equal to set of patients.\n",
        "  It returns the number of unique patients .\n",
        "\n",
        "  >>> patient_count(ALLERGIES_FILE)\n",
        "  2\n",
        "  \"\"\"\n",
        "  patients=[]\n",
        "  for i in ALLERGIES_FILE['entry']:\n",
        "    patients.append(i['resource']['patient']['display'])\n",
        "  patients=set(patients)\n",
        "  return len(patients)\n",
        "\n"
      ]
    },
    {
      "cell_type": "code",
      "execution_count": 69,
      "metadata": {
        "id": "W4ABNBf56rAM",
        "outputId": "c02d0870-0488-4ead-8959-d9e8f19034f4",
        "colab": {
          "base_uri": "https://localhost:8080/"
        }
      },
      "outputs": [
        {
          "output_type": "execute_result",
          "data": {
            "text/plain": [
              "2"
            ]
          },
          "metadata": {},
          "execution_count": 69
        }
      ],
      "source": [
        "patient_count(ALLERGIES_FILE)"
      ]
    },
    {
      "cell_type": "code",
      "execution_count": 70,
      "metadata": {
        "id": "dAqUMkyj6rAN"
      },
      "outputs": [],
      "source": [
        "assert type(patient_count(ALLERGIES_FILE)) == int\n",
        "assert patient_count(ALLERGIES_FILE) == 2"
      ]
    },
    {
      "cell_type": "code",
      "source": [
        "import doctest\n",
        "doctest.run_docstring_examples(patient_count,globals(),verbose=True)"
      ],
      "metadata": {
        "id": "k2edGvF8AunV",
        "outputId": "f7289c3f-6f23-4f0d-a7b9-2f355e2abe99",
        "colab": {
          "base_uri": "https://localhost:8080/"
        }
      },
      "execution_count": 71,
      "outputs": [
        {
          "output_type": "stream",
          "name": "stdout",
          "text": [
            "Finding tests in NoName\n",
            "Trying:\n",
            "    patient_count(ALLERGIES_FILE)\n",
            "Expecting:\n",
            "    2\n",
            "ok\n"
          ]
        }
      ]
    },
    {
      "cell_type": "markdown",
      "metadata": {
        "id": "R0MriTol6rAN"
      },
      "source": [
        "### 30.3 How Many Allergies per Patient\n",
        "\n",
        "Although each entry is a separate allergy, several of them are for the same patient.  Write a function called `allergy_per_patient(json_file)` that counts up how many allergies each patient has.\n"
      ]
    },
    {
      "cell_type": "code",
      "execution_count": 90,
      "metadata": {
        "id": "xIBxKzXO6rAN"
      },
      "outputs": [],
      "source": [
        "# Put your solution here\n",
        "def allergy_per_patient(allergy json):\n",
        "  \"\"\"\n",
        "  (dict)->dict\n",
        "  Here, we are creating the empty patient list and the allergy counts by using for loop entries in the allergies file's range length, then appending the allergies_file.\n",
        "  By doing set operation, we are using two times for loop in the first for loop we are using unique names, and in the built-in for loop we are using patient names in each entry so we inserting an if condition that states if unique name matches with the patient names in entry then count will be incremented by 1.\n",
        "  This gives us the result that we see below We are now creating a dictionary with patient names as keys and the total number of entries for each patient as values.\n",
        "\n",
        "  >>> allergy_per_patient(ALLERGIES_FILE)\n",
        "  {'Jason Argonaut': 3, 'Paul Boal': 1}\n",
        "\n",
        "\n",
        "\n",
        "  \"\"\"\n",
        "  patient_list=[]\n",
        "  allergy_counts={}\n",
        "  for entries in range(len(ALLERGIES_FILE['entry'])):\n",
        "    patient_list.append(ALLERGIES_FILE['entry'][entries]['resource']['patient']['display'])\n",
        "    name_list=set(patient_list)\n",
        "  for names in name_list:\n",
        "    count=0\n",
        "    for i in patient_list:\n",
        "      if names==i:\n",
        "        count+=1\n",
        "    allergy_counts[names]=count\n",
        "  return allergy_counts\n",
        "\n",
        ""
      ]
    },
    {
      "cell_type": "code",
      "execution_count": 91,
      "metadata": {
        "id": "5JmmPXM66rAN",
        "outputId": "a662de80-1865-43c8-bd21-5963552c38b7",
        "colab": {
          "base_uri": "https://localhost:8080/"
        }
      },
      "outputs": [
        {
          "output_type": "execute_result",
          "data": {
            "text/plain": [
              "{'Jason Argonaut': 3, 'Paul Boal': 1}"
            ]
          },
          "metadata": {},
          "execution_count": 91
        }
      ],
      "source": [
        "allergy_per_patient(ALLERGIES_FILE)"
      ]
    },
    {
      "cell_type": "code",
      "execution_count": 92,
      "metadata": {
        "id": "VpgwgajO6rAN"
      },
      "outputs": [],
      "source": [
        "assert type(allergy_per_patient(ALLERGIES_FILE)) == dict\n",
        "assert allergy_per_patient(ALLERGIES_FILE) == {'Paul Boal': 1, 'Jason Argonaut': 3}"
      ]
    },
    {
      "cell_type": "code",
      "source": [
        "import doctest\n",
        "doctest.run_docstring_examples(allergy_per_patient,globals(),verbose=True)"
      ],
      "metadata": {
        "id": "4lMAbE4OD42c",
        "outputId": "2cf775d0-e439-41b0-dbd3-1d8a8d012f99",
        "colab": {
          "base_uri": "https://localhost:8080/"
        }
      },
      "execution_count": 93,
      "outputs": [
        {
          "output_type": "stream",
          "name": "stdout",
          "text": [
            "Finding tests in NoName\n",
            "Trying:\n",
            "    allergy_per_patient(ALLERGIES_FILE)\n",
            "Expecting:\n",
            "    {'Jason Argonaut': 3, 'Paul Boal': 1}\n",
            "ok\n"
          ]
        }
      ]
    },
    {
      "cell_type": "markdown",
      "metadata": {
        "nbgrader": {
          "grade": false,
          "grade_id": "q2-question",
          "locked": true,
          "schema_version": 1,
          "solution": false
        },
        "id": "9i0JVYYp6rAN"
      },
      "source": [
        "### 30.4 Patient Allergies and Reaction\n",
        "\n",
        "You'll see in the file that each of the items in the `entry` list have several other attributes including a patient name, substance text representation, and a reaction manifestation.  Create a function named `allergy_list(json_file)` that will create an output list that has patient name, allergy, and reaction for each `entry`.  The actual result you should get will be:\n",
        "\n",
        "```python\n",
        "[['Jason Argonaut', 'PENICILLIN G', 'Hives'],\n",
        " ['Paul Boal', 'PENICILLIN G', 'Bruising'],\n",
        " ['Jason Argonaut', 'SHELLFISH-DERIVED PRODUCTS', 'Itching'],\n",
        " ['Jason Argonaut', 'STRAWBERRY', 'Anaphylaxis']]\n",
        "```\n",
        "\n",
        "You'll notice that the reaction and the manifestation of that action are lists.  You only need to capture the first reaction and the first manifestation of the action.  That is, if there is a list of things, just output the first one."
      ]
    },
    {
      "cell_type": "code",
      "execution_count": 103,
      "metadata": {
        "nbgrader": {
          "grade": false,
          "grade_id": "q2-answer",
          "locked": false,
          "schema_version": 1,
          "solution": true
        },
        "id": "KUVn6gHW6rAN"
      },
      "outputs": [],
      "source": [
        "# Put your solution here\n",
        "def allergy_list(allergyjson):\n",
        "  \"\"\"\n",
        "  (dict)-> list\n",
        "  The patient, drug, and reaction lists are added to the empty list in each loop by assigning a for loop to the elements in the range from the allergies file.\n",
        "  Then append patient,drug,reaction to the patient_details which will returns the patient details.\n",
        "\n",
        "\n",
        "  >>> allergy_list(ALLERGIES_FILE)\n",
        "  [['Jason Argonaut', 'PENICILLIN G', 'Hives'], ['Jason Argonaut', 'SHELLFISH-DERIVED PRODUCTS', 'Itching'], ['Jason Argonaut', 'STRAWBERRY', 'Anaphylaxis'], ['Paul Boal', 'PENICILLIN G', 'Bruising']]\n",
        "\n",
        " \"\"\"\n",
        "\n",
        "  patient_details=[]\n",
        "  for entries in range (len(ALLERGIES_FILE['entry'])):\n",
        "      patient=ALLERGIES_FILE['entry'][entries]['resource']['patient']['display']\n",
        "      drug=ALLERGIES_FILE['entry'][entries]['resource']['substance']['text']\n",
        "      reaction= ALLERGIES_FILE['entry'][entries]['resource']['reaction'][0]['manifestation'][0]['text']\n",
        "      patient_details.append([patient,drug,reaction])\n",
        "  return patient_details\n",
        "\n",
        "\n",
        "\n",
        "\n"
      ]
    },
    {
      "cell_type": "code",
      "execution_count": 104,
      "metadata": {
        "id": "H7EoXJ056rAN",
        "outputId": "03fac6ac-1f24-4059-f880-a9d64f133aea",
        "colab": {
          "base_uri": "https://localhost:8080/"
        }
      },
      "outputs": [
        {
          "output_type": "execute_result",
          "data": {
            "text/plain": [
              "[['Jason Argonaut', 'PENICILLIN G', 'Hives'],\n",
              " ['Jason Argonaut', 'SHELLFISH-DERIVED PRODUCTS', 'Itching'],\n",
              " ['Jason Argonaut', 'STRAWBERRY', 'Anaphylaxis'],\n",
              " ['Paul Boal', 'PENICILLIN G', 'Bruising']]"
            ]
          },
          "metadata": {},
          "execution_count": 104
        }
      ],
      "source": [
        "allergy_list(ALLERGIES_FILE)"
      ]
    },
    {
      "cell_type": "code",
      "execution_count": 105,
      "metadata": {
        "nbgrader": {
          "grade": true,
          "grade_id": "q2-tests",
          "locked": true,
          "points": 10,
          "schema_version": 1,
          "solution": false
        },
        "id": "qMgs4ydx6rAO"
      },
      "outputs": [],
      "source": [
        "assert allergy_list(ALLERGIES_FILE) == [['Jason Argonaut', 'PENICILLIN G', 'Hives'],\n",
        " ['Jason Argonaut', 'SHELLFISH-DERIVED PRODUCTS', 'Itching'],\n",
        " ['Jason Argonaut', 'STRAWBERRY', 'Anaphylaxis'],\n",
        " ['Paul Boal', 'PENICILLIN G', 'Bruising']]\n",
        "\n"
      ]
    },
    {
      "cell_type": "code",
      "source": [
        "import doctest\n",
        "doctest.run_docstring_examples(allergy_list,globals(),verbose=True)"
      ],
      "metadata": {
        "id": "iJUwYGelJdTe",
        "outputId": "aef21a6d-343d-45ea-b8ae-534eceec5532",
        "colab": {
          "base_uri": "https://localhost:8080/"
        }
      },
      "execution_count": 106,
      "outputs": [
        {
          "output_type": "stream",
          "name": "stdout",
          "text": [
            "Finding tests in NoName\n",
            "Trying:\n",
            "    allergy_list(ALLERGIES_FILE)\n",
            "Expecting:\n",
            "    [['Jason Argonaut', 'PENICILLIN G', 'Hives'], ['Jason Argonaut', 'SHELLFISH-DERIVED PRODUCTS', 'Itching'], ['Jason Argonaut', 'STRAWBERRY', 'Anaphylaxis'], ['Paul Boal', 'PENICILLIN G', 'Bruising']]\n",
            "ok\n"
          ]
        }
      ]
    },
    {
      "cell_type": "markdown",
      "metadata": {
        "nbgrader": {
          "grade": false,
          "grade_id": "q3-question",
          "locked": true,
          "schema_version": 1,
          "solution": false
        },
        "id": "G84dz6HA6rAO"
      },
      "source": [
        "### 30.5 Allergy Reaction\n",
        "\n",
        "Write a function called `allergy_reaction(json_file,patient,substance)` that takes three parameter and returns the reaction that will happen if the patient takes the specified substance.  You can solve this, in part, by calling your `allergy_list` function inside your new `allergy_reaction` function.\n",
        "\n",
        "If the substance is not found in the allergy list, the function should return None."
      ]
    },
    {
      "cell_type": "code",
      "execution_count": 172,
      "metadata": {
        "nbgrader": {
          "grade": false,
          "grade_id": "q3-answer",
          "locked": false,
          "schema_version": 1,
          "solution": true
        },
        "id": "rPAF3wRC6rAO"
      },
      "outputs": [],
      "source": [
        "# Put your solution here\n",
        "def allergy_reaction(allergyjson,name='patient',drug='medicine'):\n",
        "  \"\"\"\n",
        "   ('dict',str,str)->str\n",
        "   Initially, we are setting the result of report to none.\n",
        "   Next, we use the for loop to enter the patient's name and the drug he is allergic to.\n",
        "   Finally, we use the if condition to check these details.\n",
        "   The allergic reaction is referred to as a report.\n",
        "   The for loop terminates and returns a report as None if the patient and medication information does not match the information we had in our json file.\n",
        "   >>> allergy_reaction(ALLERGIES_FILE, 'Jason Argonaut', 'PENICILLIN G')\n",
        "   'Hives'\n",
        "  \"\"\"\n",
        "  result_of_report=''\n",
        "  for entries in range (len(ALLERGIES_FILE['entry'])):\n",
        "    patient=ALLERGIES_FILE['entry'][entries]['resource']['patient']['display']\n",
        "    substance=ALLERGIES_FILE['entry'][entries]['resource']['substance']['text']\n",
        "    reaction= ALLERGIES_FILE['entry'][entries]['resource']['reaction'][0]['manifestation'][0]['text']\n",
        "    if patient==name and drug==substance:\n",
        "      result_of_report=reaction\n",
        "  if result_of_report=='':\n",
        "    result_of_report=None\n",
        "  return result_of_report\n",
        "\n",
        "\n",
        "\n",
        "\n",
        "\n"
      ]
    },
    {
      "cell_type": "code",
      "execution_count": 173,
      "metadata": {
        "id": "e6P_gx5W6rAO",
        "outputId": "431fe75d-4fce-45ae-d083-87734dbca231",
        "colab": {
          "base_uri": "https://localhost:8080/",
          "height": 35
        }
      },
      "outputs": [
        {
          "output_type": "execute_result",
          "data": {
            "text/plain": [
              "'Hives'"
            ],
            "application/vnd.google.colaboratory.intrinsic+json": {
              "type": "string"
            }
          },
          "metadata": {},
          "execution_count": 173
        }
      ],
      "source": [
        "allergy_reaction(ALLERGIES_FILE, 'Jason Argonaut', 'PENICILLIN G')"
      ]
    },
    {
      "cell_type": "code",
      "execution_count": 174,
      "metadata": {
        "nbgrader": {
          "grade": true,
          "grade_id": "q3-tests",
          "locked": true,
          "points": 5,
          "schema_version": 1,
          "solution": false
        },
        "id": "qEkgN_DO6rAO"
      },
      "outputs": [],
      "source": [
        "assert allergy_reaction(ALLERGIES_FILE, 'Jason Argonaut', 'PENICILLIN G') == 'Hives'\n",
        "assert allergy_reaction(ALLERGIES_FILE, 'Jason Argonaut', 'SHELLFISH-DERIVED PRODUCTS') == 'Itching'\n",
        "assert allergy_reaction(ALLERGIES_FILE, 'Jason Argonaut', 'STRAWBERRY') == 'Anaphylaxis'\n",
        "assert allergy_reaction(ALLERGIES_FILE, 'Jason Argonaut', 'PENICILLIN') == None\n",
        "assert allergy_reaction(ALLERGIES_FILE, 'Paul Boal', 'PENICILLIN G') == 'Bruising'"
      ]
    },
    {
      "cell_type": "code",
      "source": [
        "import doctest\n",
        "doctest.run_docstring_examples(allergy_reaction,globals(),verbose=True)"
      ],
      "metadata": {
        "id": "7kRq_wc1Kr5q",
        "outputId": "dfe0d577-a1ae-4e6b-ccb1-0439c2961c91",
        "colab": {
          "base_uri": "https://localhost:8080/"
        }
      },
      "execution_count": 175,
      "outputs": [
        {
          "output_type": "stream",
          "name": "stdout",
          "text": [
            "Finding tests in NoName\n",
            "Trying:\n",
            "    allergy_reaction(ALLERGIES_FILE, 'Jason Argonaut', 'PENICILLIN G')\n",
            "Expecting:\n",
            "    'Hives'\n",
            "ok\n"
          ]
        }
      ]
    },
    {
      "cell_type": "markdown",
      "metadata": {
        "id": "1buFjSgI6rAO"
      },
      "source": [
        "---\n",
        "\n",
        "## Check your work above\n",
        "\n",
        "If you didn't get them all correct, take a few minutes to think through those that aren't correct.\n",
        "\n",
        "\n",
        "## Submitting Your Work\n",
        "\n",
        "In order to submit your work, you'll need to save this notebook file back to GitHub.  To do that in Google Colab:\n",
        "1. File -> Save a Copy in GitHub\n",
        "2. Make sure your HDS5210 repository is selected\n",
        "3. Make sure the file name includes the week number like this: `week06/week06_assignment_2.ipynb`\n",
        "4. Add a commit message that means something\n",
        "\n",
        "**Be sure week names are lowercase and use a two digit week number!!**\n",
        "\n",
        "**Be sure you use the same file name provided by the instructor!!**\n",
        "\n"
      ]
    }
  ],
  "metadata": {
    "celltoolbar": "Create Assignment",
    "kernelspec": {
      "display_name": "Python 3",
      "language": "python",
      "name": "python3"
    },
    "language_info": {
      "codemirror_mode": {
        "name": "ipython",
        "version": 3
      },
      "file_extension": ".py",
      "mimetype": "text/x-python",
      "name": "python",
      "nbconvert_exporter": "python",
      "pygments_lexer": "ipython3",
      "version": "3.9.16"
    },
    "colab": {
      "provenance": [],
      "include_colab_link": true
    }
  },
  "nbformat": 4,
  "nbformat_minor": 0
}
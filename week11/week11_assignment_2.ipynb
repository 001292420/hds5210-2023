{
  "cells": [
    {
      "cell_type": "markdown",
      "metadata": {
        "id": "view-in-github",
        "colab_type": "text"
      },
      "source": [
        "<a href=\"https://colab.research.google.com/github/001292420/hds5210-2023/blob/main/week11/week11_assignment_2.ipynb\" target=\"_parent\"><img src=\"https://colab.research.google.com/assets/colab-badge.svg\" alt=\"Open In Colab\"/></a>"
      ]
    },
    {
      "cell_type": "markdown",
      "metadata": {
        "id": "bDRHnJbQvpkq"
      },
      "source": [
        "# Week 11 Assignment\n",
        "\n",
        "\n",
        "Please do the programming exercise and verify that your code works using the tests, then think about your final project and fill out the questions in the second part.\n",
        "\n",
        "---\n",
        "---"
      ]
    },
    {
      "cell_type": "markdown",
      "metadata": {
        "id": "3oso5OOZvpkr"
      },
      "source": [
        "### 47.1: Filtering and summarizing data\n",
        "\n",
        "For this work, you'll find a data file in `https://hds5210-data.s3.amazonaws.com/complications_all.csv`.\n",
        "\n",
        "Read in the data file and create a variable called `mo_hospitals` that contains a data frame from the `complications_all.csv` file, filtered down to only contain those hospitals from the state of Missouri (MO).\n",
        "\n",
        "Then aggregate that data by hospital into a variable named `mo_summary`.  There are some key fields that we want to summarize:\n",
        "* We want to know the earliest date that each hospital was participating in any program\n",
        "* We want to know the latest date that each hospital stopped participating in any program\n",
        "* We want to know the total number of patients in the denominators of these programs\n",
        "\n",
        "Some things to note:\n",
        "* You will need to convert the `Start Date` and `End Date` to actual datetime fields\n",
        "* You will need to clean up and convert the `Denominator` field to just be numeric - the rule that you should use it to simply remove any records where the `Denominator` is `'Not Available'`\n",
        "\n",
        "\n",
        "The final result of this step should be a new data frame called `mo_summary` that contains one row for each hospital and contains the min start date, max end date, and total denominator.  Use the names `start_date`, `end_date`, and `number` for those columns in `mo_summary`.\n",
        "\n",
        "\n",
        "You do not need to create your code in the form of a function, just make sure your variable names match what I've described above so the tests work."
      ]
    },
    {
      "cell_type": "code",
      "execution_count": 1,
      "metadata": {
        "id": "2BqCfgQ8vpkr"
      },
      "outputs": [],
      "source": [
        "import pandas as pd\n",
        "# This is just to show you the name to use for the variable you need to create for this step to pass.\n",
        "all_hospitals = pd.read_csv('https://hds5210-data.s3.amazonaws.com/complications_all.csv')\n"
      ]
    },
    {
      "cell_type": "code",
      "execution_count": 19,
      "metadata": {
        "id": "vQ8bwnQ0vpks",
        "outputId": "09e49daa-c555-4cc4-96d3-91ad6568009f",
        "colab": {
          "base_uri": "https://localhost:8080/"
        }
      },
      "outputs": [
        {
          "output_type": "stream",
          "name": "stdout",
          "text": [
            "                                    start_date   end_date    number\n",
            "Facility Name                                                      \n",
            "BARNES JEWISH HOSPITAL              2015-04-01 2018-06-30  131313.0\n",
            "BARNES-JEWISH ST PETERS HOSPITAL    2015-04-01 2018-06-30   15668.0\n",
            "BARNES-JEWISH WEST COUNTY HOSPITAL  2015-04-01 2018-06-30    9622.0\n",
            "BATES COUNTY MEMORIAL HOSPITAL      2015-04-01 2018-06-30    3117.0\n",
            "BELTON REGIONAL MEDICAL CENTER      2015-04-01 2018-06-30    9270.0\n",
            "...                                        ...        ...       ...\n",
            "TRUMAN MEDICAL CENTER LAKEWOOD      2015-04-01 2018-06-30    4297.0\n",
            "UNIVERSITY OF MISSOURI HEALTH CARE  2015-04-01 2018-06-30   56493.0\n",
            "WASHINGTON COUNTY MEMORIAL HOSPITAL 2015-04-01 2018-06-30     220.0\n",
            "WESTERN MISSOURI MEDICAL CENTER     2015-04-01 2018-06-30    7254.0\n",
            "WRIGHT MEMORIAL HOSPITAL            2015-04-01 2018-06-30     198.0\n",
            "\n",
            "[115 rows x 3 columns]\n"
          ]
        }
      ],
      "source": [
        "mo_hospitals =df[df['State'] == 'MO'].copy()\n",
        "mo_hospitals['Start Date'] = pd.to_datetime(mo_hospitals['Start Date'])\n",
        "mo_hospitals['End Date'] = pd.to_datetime(mo_hospitals['End Date'])\n",
        "mo_hospitals['Denominator'] = pd.to_numeric(mo_hospitals['Denominator'], errors='coerce')\n",
        "mo_summary = mo_hospitals.groupby('Facility Name').agg({\n",
        "    'Start Date': 'min',\n",
        "    'End Date': 'max',\n",
        "    'Denominator': 'sum'\n",
        "})\n",
        "mo_summary = mo_summary.rename(columns={'Start Date': 'start_date', 'End Date': 'end_date', 'Denominator': 'number'})\n",
        "print(mo_summary)\n",
        "\n",
        "\n",
        "\n",
        "\n"
      ]
    },
    {
      "cell_type": "code",
      "execution_count": 17,
      "metadata": {
        "id": "_gHr7J-jvpks"
      },
      "outputs": [],
      "source": [
        "assert(mo_summary['number'].sum() == 1766908)\n",
        "assert(mo_summary['start_date'].min() == pd.Timestamp(2015,4,1))\n",
        "assert(mo_summary['end_date'].max() == pd.Timestamp(2018,6,30))\n",
        "assert(mo_summary.shape == (108,3))\n",
        "assert(mo_summary.loc['BARNES JEWISH HOSPITAL'].number == 131313)\n",
        "assert(mo_summary.loc['BOONE HOSPITAL CENTER'].number == 63099)"
      ]
    },
    {
      "cell_type": "markdown",
      "metadata": {
        "id": "6yyIUw_Ovpks"
      },
      "source": [
        "---\n",
        "\n",
        "### 47.2 Planning your final project\n",
        "\n",
        "You should be thinking about the things we've been learning and how you can apply them to your final project.  Use the rubric to help guid your thinking and then answer the questions below.  This is meant as a guide to help you think through what you will do."
      ]
    },
    {
      "cell_type": "markdown",
      "metadata": {
        "id": "bjyPL48rvpks"
      },
      "source": [
        "#### A) Data Access\n",
        "\n",
        "Your project should include data from at least three distinct types of sources.  For example: AWS S3, Relational Databases, Internet, Web Services, local files.  List what data sources you're planning to use."
      ]
    },
    {
      "cell_type": "markdown",
      "metadata": {
        "id": "uisC7Nk3vpkt"
      },
      "source": [
        "**Double-click to enter your answer**\n",
        "\n",
        "I am planning to use AWS S3, internet(like kaggle), Relational databases.\n"
      ]
    },
    {
      "cell_type": "markdown",
      "metadata": {
        "id": "x3YjBrU9vpkt"
      },
      "source": [
        "#### B. Data Formats\n",
        "\n",
        "Your project should include data that comes in different file formats.  For example: HL7, EDI, HTML, CSV, Excel, JSON, XML.  List what data formats you're planning to use."
      ]
    },
    {
      "cell_type": "markdown",
      "metadata": {
        "id": "xdRjomMNvpkt"
      },
      "source": [
        "**Double-click to enter your answer**\n",
        "\n",
        "Data formats i am planning to use are CSV, JSON, Excel.\n"
      ]
    },
    {
      "cell_type": "markdown",
      "metadata": {
        "id": "YsxiY2xqvpkt"
      },
      "source": [
        "#### C. Objective\n",
        "\n",
        "What purpose would your project serve in a real work setting?  Take a couple of paragraphs to write down why this is an interesting product."
      ]
    },
    {
      "cell_type": "markdown",
      "metadata": {
        "id": "BwH1bEhvvpkt"
      },
      "source": [
        "**Double-click to enter your answer**\n",
        "\n",
        "The project addresses the growing need for effective data-driven decision-making by introducing a flexible data analysis and visualization tool. It enables data scientists to perform repeatable analyses and promotes collaboration and insight sharing by integrating with Python  with ease. Because of the tool's emphasis on automation and user-friendly interfaces, workflows are streamlined, freeing up practitioners to concentrate on important analytical tasks. This project expedites the data analysis lifecycle in real work settings and gives teams a workable way to effectively explore large, complex datasets. Its effect is to increase output, decrease monotonous work, and eventually enable firms to make decisions more quickly and intelligently.\n"
      ]
    },
    {
      "cell_type": "markdown",
      "metadata": {
        "id": "gaZyLUT5vpkt"
      },
      "source": [
        "\n",
        "\n",
        "---\n",
        "\n",
        "\n",
        "\n",
        "## Submit your work via GitHub as normal\n"
      ]
    }
  ],
  "metadata": {
    "kernelspec": {
      "display_name": "Python 3",
      "language": "python",
      "name": "python3"
    },
    "language_info": {
      "codemirror_mode": {
        "name": "ipython",
        "version": 3
      },
      "file_extension": ".py",
      "mimetype": "text/x-python",
      "name": "python",
      "nbconvert_exporter": "python",
      "pygments_lexer": "ipython3",
      "version": "3.9.16"
    },
    "colab": {
      "provenance": [],
      "include_colab_link": true
    }
  },
  "nbformat": 4,
  "nbformat_minor": 0
}
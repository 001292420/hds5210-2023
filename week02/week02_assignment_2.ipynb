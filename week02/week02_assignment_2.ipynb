{
  "cells": [
    {
      "cell_type": "markdown",
      "metadata": {
        "nbgrader": {
          "grade": false,
          "grade_id": "intro",
          "locked": true,
          "schema_version": 1,
          "solution": false
        },
        "id": "DLQ5RAYbJ1M_"
      },
      "source": [
        "# Week 2 Programming Exercises\n",
        "\n",
        "See: _McKinney 2.3_ and [Python Documentation](https://docs.python.org/3/tutorial/introduction.html) section 3.1.1 on using Python as a calculator.\n",
        "\n",
        "**At the begining of the semester, all of the workshop programming exercises will be structured a specific way to make it easier to verify for yourself that you're on the right track as well as easier for me to do a first pass on automated grading.  The structure of each question will require you to write a function using Python code. Don't worry that we haven't talked about functions yet. Just edit the code between** `### BEGIN SOLUTION` and `### END SOLUTION` **as shown in the example below.**\n"
      ]
    },
    {
      "cell_type": "markdown",
      "metadata": {
        "id": "6FB6lOKpJ1NB"
      },
      "source": [
        "**WHAT I PROVIDE:**\n",
        "```\n",
        "def some_function(parameter1, parameter2):\n",
        "\n",
        "   ### BEGIN SOLUTION\n",
        "   x = -1\n",
        "   ### END SOLUTION\n",
        "   \n",
        "   return x\n",
        "```\n",
        "\n",
        "**WHAT YOU SHOULD DO:** Just change the parameter names (if you feel you need to) and the calculations between `### BEGIN SOLUTION` and `### END SOLUTION`.  This is just a made up example.\n",
        "```\n",
        "def some_function(a, b):\n",
        "\n",
        "   ### BEGIN SOLUTION\n",
        "   temp = a + b\n",
        "   x = temp / a * b\n",
        "   ### END SOLUTION\n",
        "   \n",
        "   return x\n",
        "```\n"
      ]
    },
    {
      "cell_type": "markdown",
      "metadata": {
        "id": "2Ma3DV-_J1NC"
      },
      "source": [
        "---\n",
        "---\n",
        "\n",
        "**Below each programming exercise are some tests (`assertions`) that verify your code is working correctly.  If any assertions fail, you know that something isnt' right with your code, but having all assertions pass doesn't necessarily mean your code is perfect, yet. You should also create your own tests to make sure your code is correct.**\n",
        "\n",
        "**For now, please don't change any function names**"
      ]
    },
    {
      "cell_type": "markdown",
      "metadata": {
        "nbgrader": {
          "grade": false,
          "grade_id": "bmi",
          "locked": true,
          "schema_version": 1,
          "solution": false
        },
        "id": "S5ygFOntJ1NC"
      },
      "source": [
        "### 5.1 BMI Calculation\n",
        "\n",
        "Create new names for the variables that you need in the code framework below and use the variables to compute the corresponding body mass index (BMI). You can use any meaningful variable names you like. When you compute the BMI, assign a variable to it, and then print the result to the notebook's output.\n",
        "\n",
        "* Weght in kilograms is 90.7\n",
        "* Height in meters in 1.82\n",
        "\n",
        "Note that a simple BMI calculation is weight in kilograms divided by the square of height in meters.\n",
        "\n",
        "$ bmi = \\frac{weight\\,\\mathrm{kg}}{(height\\,\\mathrm{m})^2} $\n",
        "\n",
        "For this problem, you'll be graded both on proper calculation as well as on programming style and appropriate variables names.\n",
        "\n",
        "_Also note that BMI should not be considered a universal measure of health or fitness. A health BMI can vary greatly depending on many other fitness conditions and body types._"
      ]
    },
    {
      "cell_type": "code",
      "execution_count": 42,
      "metadata": {
        "nbgrader": {
          "grade": false,
          "grade_id": "bmi-answer",
          "locked": false,
          "schema_version": 1,
          "solution": true
        },
        "id": "A2HppjcOJ1NC"
      },
      "outputs": [],
      "source": [
        "def bmi(weight_kg, height_m):\n",
        "\n",
        "    # 1. Change the names of parameter1 and parameter2 to be something more meaningful\n",
        "    # 2. Change the name of the return variable below\n",
        "\n",
        "    ### Bmi calculation\n",
        "    Bmi=weight_kg/height_m**2\n",
        "    ### END SOLUTION\n",
        "\n",
        "    return Bmi\n"
      ]
    },
    {
      "cell_type": "markdown",
      "metadata": {
        "nbgrader": {
          "grade": false,
          "grade_id": "bmi-validate",
          "locked": true,
          "schema_version": 1,
          "solution": false
        },
        "id": "Rs5wwnpdJ1ND"
      },
      "source": [
        "Test your code below.  The BMI for a weight of 90.7 kg and height of 182 cm should be approximately 27.38"
      ]
    },
    {
      "cell_type": "code",
      "execution_count": 43,
      "metadata": {
        "nbgrader": {
          "grade": true,
          "grade_id": "bmi-test",
          "locked": true,
          "points": 0,
          "schema_version": 1,
          "solution": false
        },
        "id": "msZ6sBGTJ1ND"
      },
      "outputs": [],
      "source": [
        "assert round(bmi(90.7, 1.82), 2) == 27.38\n",
        "assert round(bmi(91, 1.80), 2) == 28.09\n",
        "assert round(bmi(70, 1.70), 2) == 24.22"
      ]
    },
    {
      "cell_type": "code",
      "execution_count": 44,
      "metadata": {
        "id": "Bo1StSroJ1NE",
        "outputId": "71a7bb60-a74a-4531-e453-4a7c9b944dff",
        "colab": {
          "base_uri": "https://localhost:8080/"
        }
      },
      "outputs": [
        {
          "output_type": "execute_result",
          "data": {
            "text/plain": [
              "27.38195870064002"
            ]
          },
          "metadata": {},
          "execution_count": 44
        }
      ],
      "source": [
        "bmi(90.7, 1.82)"
      ]
    },
    {
      "cell_type": "markdown",
      "metadata": {
        "id": "Sm4PgV2UJ1NE"
      },
      "source": [
        "### 5.2 Weight from BMI\n",
        "\n",
        "For the next operation, we're going to calculate Weight in kilograms, given someone's BMI and their height in meters.\n",
        "\n",
        "This calculation will be:  $ weight\\,\\mathrm{kg} = {bmi}\\times{(height\\,\\mathrm{m})^2} $"
      ]
    },
    {
      "cell_type": "code",
      "execution_count": 45,
      "metadata": {
        "id": "Ps8YcubmJ1NE"
      },
      "outputs": [],
      "source": [
        "def weight(bmi, height_m):\n",
        "\n",
        "    ### weight from bmi\n",
        "    WT=bmi*height_m**2\n",
        "    ### END SOLUTION\n",
        "\n",
        "    return WT"
      ]
    },
    {
      "cell_type": "code",
      "execution_count": 46,
      "metadata": {
        "id": "sM8eZ_63J1NE"
      },
      "outputs": [],
      "source": [
        "assert round(weight(27.38, 1.82),2) == 90.69\n",
        "assert round(weight(28.09, 1.80),2) == 91.01\n",
        "assert round(weight(24.22, 1.70),2) == 70.00"
      ]
    },
    {
      "cell_type": "code",
      "execution_count": 46,
      "metadata": {
        "id": "d-sqUMldJ1NE"
      },
      "outputs": [],
      "source": []
    },
    {
      "cell_type": "markdown",
      "metadata": {
        "id": "TJxQesEKJ1NE"
      },
      "source": [
        "### 5.3 Height from BMI\n",
        "\n",
        "\n",
        "For the next operation, we're going to calculate height in meters, given someone's BMI and their weight in kilograms.\n",
        "\n",
        "This calculation will be:  $ {height\\,\\mathrm{m}} = \\sqrt{\\frac{weight\\,\\mathrm{kg}}{bmi}} $\n",
        "\n",
        "For this equation, you'll notice that we need to calculate a square root.  Python has a function for this of course, `sqrt`, but that function is not part of the base Python language. Some Python features have to be imported.  The first line of code below imports the `sqrt` function from the [math](https://docs.python.org/3/library/math.html) library.\n"
      ]
    },
    {
      "cell_type": "code",
      "execution_count": 47,
      "metadata": {
        "id": "5nOSaixUJ1NE"
      },
      "outputs": [],
      "source": [
        "from math import sqrt\n",
        "def height(bmi, weight_kg):\n",
        "\n",
        "    ### height from bmi\n",
        "    ht=sqrt(weight_kg/bmi)\n",
        "    ### END SOLUTION\n",
        "\n",
        "    return ht"
      ]
    },
    {
      "cell_type": "code",
      "execution_count": 48,
      "metadata": {
        "id": "YauKl1QkJ1NF"
      },
      "outputs": [],
      "source": [
        "assert round(height(27.38, 90.69),2) == 1.82\n",
        "assert round(height(28.09, 91.01),2) == 1.80\n",
        "assert round(height(24.22, 70.00),2) == 1.70"
      ]
    },
    {
      "cell_type": "code",
      "execution_count": 48,
      "metadata": {
        "id": "HdUBsI3MJ1NF"
      },
      "outputs": [],
      "source": []
    },
    {
      "cell_type": "markdown",
      "metadata": {
        "id": "kE8AqZXzJ1NF"
      },
      "source": [
        "### 5.4 BMI using Feet, Inches, and Pounds\n",
        "\n",
        "Now, let's try to to create a function that knows how to first convert between imperial units (US inches and pounds) and SI units before calculating the bmi.  For these calculations use:\n",
        "\n",
        "* $ 1\\,\\mathrm{inch} = 2.54\\,\\mathrm{cm} $\n",
        "* $ 1\\,\\mathrm{lb} = 0.45454545\\,\\mathrm{kg} $\n"
      ]
    },
    {
      "cell_type": "code",
      "execution_count": 49,
      "metadata": {
        "id": "wS2_--4mJ1NF"
      },
      "outputs": [],
      "source": [
        "def bmi_us(weight_lb, height_ft, height_in):\n",
        "\n",
        "    ### Bmi using feet,inches,pounds\n",
        "    ht_in=(height_ft*12+height_in)\n",
        "    ht_m=ht_in*0.0254\n",
        "    wt_kg=weight_lb*0.45454545\n",
        "    Bmi=wt_kg/(ht_m)**2\n",
        "    ### END SOLUTION\n",
        "\n",
        "    return Bmi"
      ]
    },
    {
      "cell_type": "code",
      "execution_count": 50,
      "metadata": {
        "id": "AJVIEOCiJ1NF"
      },
      "outputs": [],
      "source": [
        "assert round(bmi_us(250,6,4),2) == 30.49\n",
        "assert round(bmi_us(120,5,0),2) == 23.48\n",
        "assert round(bmi_us(130,5,10),2) == 18.69"
      ]
    },
    {
      "cell_type": "markdown",
      "metadata": {
        "nbgrader": {
          "grade": false,
          "grade_id": "weight",
          "locked": true,
          "schema_version": 1,
          "solution": false
        },
        "id": "rOBcSHhzJ1NF"
      },
      "source": [
        "### 5.5 Target BMI\n",
        "Assuming that someone doesn't change height over time, what is the approximate number of days it will take for someone to get from the BMI you found in #3 above to a BMI of 24.9 (typically regarded as being in a healthy range) while losing weight at a rate of 0.75 kg per week.\n",
        "\n",
        "As needed, use variables and multiple calculation steps to make your thought process visible in the code. For instance, rather than using the notebook as a calculator, use variables for intermediate answers.\n",
        "\n",
        "Again, you will receive points both for correct answers as well as for style.\n",
        "\n",
        "In addition to the bmi, height, and weight equations we already defined above, here is some of the algebra to help you along:\n",
        "\n",
        "$ height\\,\\mathrm{m} = \\frac{height\\,\\mathrm{cm}}{100} $\n",
        "\n",
        "$ days = {weeks} x {7} $\n",
        "\n",
        "$ weeks\\,required\\,to\\,change\\,weight = \\frac{current\\,weight - target\\,weight}{weight\\,change\\,per\\,week} $"
      ]
    },
    {
      "cell_type": "code",
      "execution_count": 51,
      "metadata": {
        "nbgrader": {
          "grade": false,
          "grade_id": "weight-answer",
          "locked": false,
          "schema_version": 1,
          "solution": true
        },
        "id": "1dJZosNAJ1NF"
      },
      "outputs": [],
      "source": [
        "def lose_weight(weight, height, kg_per_week, target_bmi):\n",
        "\n",
        "    # Note that the variables you need area already named for you:\n",
        "    # height is the height in cm\n",
        "    # weight is the weight in kg\n",
        "    # kg_per_week is how much the person wants to lose per week\n",
        "    # target_bmi is the intended target bmi\n",
        "\n",
        "    ### Weeks required to change weight\n",
        "    ht_m=height/100\n",
        "    target_wt=target_bmi*(ht_m)**2\n",
        "    weeks=(weight-target_wt)/kg_per_week\n",
        "    no_of_days=weeks*7\n",
        "\n",
        "    ### END SOLUTION\n",
        "\n",
        "    return no_of_days"
      ]
    },
    {
      "cell_type": "markdown",
      "metadata": {
        "id": "XZvOhW6KJ1NF"
      },
      "source": [
        "Test your code below.  It should return approximately 76.73 days for the given parameters above."
      ]
    },
    {
      "cell_type": "code",
      "execution_count": 52,
      "metadata": {
        "nbgrader": {
          "grade": true,
          "grade_id": "weight-tests",
          "locked": true,
          "points": 5,
          "schema_version": 1,
          "solution": false
        },
        "id": "uHLr8JfPJ1NF"
      },
      "outputs": [],
      "source": [
        "assert round(lose_weight(90.7, 182, 0.75, 24.9),2) == 76.73\n",
        "assert round(lose_weight(91, 180, 0.75, 24.9),2) == 96.36\n",
        "assert round(lose_weight(70, 170, 0.75, 22),2) == 59.92\n",
        "assert round(lose_weight(70, 170, 2, 22),2) == 22.47\n"
      ]
    },
    {
      "cell_type": "code",
      "execution_count": 53,
      "metadata": {
        "id": "5gEvAAZRJ1NG",
        "outputId": "deb7018f-84a1-4463-c392-a9cb4a52ec46",
        "colab": {
          "base_uri": "https://localhost:8080/"
        }
      },
      "outputs": [
        {
          "output_type": "execute_result",
          "data": {
            "text/plain": [
              "76.73157333333342"
            ]
          },
          "metadata": {},
          "execution_count": 53
        }
      ],
      "source": [
        "lose_weight(90.7, 182, 0.75, 24.9)"
      ]
    },
    {
      "cell_type": "markdown",
      "metadata": {
        "id": "wH9_4LTbJ1NG"
      },
      "source": [
        "---\n",
        "\n",
        "### 5.6 Your choice\n",
        "\n",
        "Every one of us has done projects where some kind of simple mathematical calculators are required.  Think about something recent from your field of expertise or an area of interest. Choose something that you find interesting and write the Python code required to do that calculation.  These examples show the level of complexity you need to have (not very complex).\n",
        "\n",
        "* $ bmr_{male} = 66 + (13.7 \\times weight\\,\\mathrm{kg}) + (5 \\times height\\,\\mathrm{m}) - (6.8 \\times age\\,\\mathrm{yr}) $\n",
        "\n",
        "* $ bmr_{female} = 655 + (9.6 \\times weight\\,\\mathrm{kg}) + (1.8 \\times height\\,\\mathrm{cm}) - (4.7 \\times age\\,\\mathrm{yr}) $\n",
        "\n",
        "* $ Batting\\,Average = \\frac{Total\\,Hits}{Total\\,at\\,Bats} $\n",
        "\n",
        "* $ Area\\,of\\,circle = \\pi r^2 $\n",
        "\n",
        "* $ F = \\frac{1}{2} m v^2 $\n",
        "\n",
        "Then provide the code for how you would use variables and example values to do the calculation.  You do not to wrap this in a Python function. Just include the code and variables as I've shown below with the BMI calculation that we've been using. As the last command in the cell, print out the value of your calculation as shown in my example.\n"
      ]
    },
    {
      "cell_type": "code",
      "execution_count": 54,
      "metadata": {
        "id": "7Pqmq0hJJ1NG"
      },
      "outputs": [],
      "source": [
        "def BMR_F(weight_kg,height_cm,age):\n",
        "    BMR=655+(9.6*weight_kg)+(1.8*height_cm)-(4.7*age)\n",
        "    return BMR"
      ]
    },
    {
      "cell_type": "code",
      "source": [
        "BMR_F(85,185,21)"
      ],
      "metadata": {
        "id": "XdL_7SrramOz",
        "outputId": "3f1af4d1-da0a-42d5-bf1d-f57f22bbfe99",
        "colab": {
          "base_uri": "https://localhost:8080/"
        }
      },
      "execution_count": 55,
      "outputs": [
        {
          "output_type": "execute_result",
          "data": {
            "text/plain": [
              "1705.3"
            ]
          },
          "metadata": {},
          "execution_count": 55
        }
      ]
    },
    {
      "cell_type": "markdown",
      "metadata": {
        "id": "IwWXnr_5J1NG"
      },
      "source": [
        "---\n",
        "\n",
        "## Check your work above\n",
        "\n",
        "If you didn't get them all correct, take a few minutes to think through those that aren't correct.\n",
        "\n",
        "\n",
        "## Submitting Your Work\n",
        "\n",
        "In order to submit your work, you'll need to save this notebook file back to GitHub.  To do that in Google Colab:\n",
        "1. File -> Save a Copy in GitHub\n",
        "2. Make sure your HDS5210 repository is selected\n",
        "3. Make sure the file name includes the week number like this: `week02/week02_assignment_2.ipynb`\n",
        "4. Add a commit message that means something\n",
        "\n",
        "**Be sure week names are lowercase and use a two digit week number!!**\n",
        "\n",
        "**Be sure you use the same file name provided by the instructor!!**\n",
        "\n"
      ]
    }
  ],
  "metadata": {
    "celltoolbar": "Create Assignment",
    "kernelspec": {
      "display_name": "Python 3",
      "language": "python",
      "name": "python3"
    },
    "language_info": {
      "codemirror_mode": {
        "name": "ipython",
        "version": 3
      },
      "file_extension": ".py",
      "mimetype": "text/x-python",
      "name": "python",
      "nbconvert_exporter": "python",
      "pygments_lexer": "ipython3",
      "version": "3.6.7"
    },
    "colab": {
      "provenance": []
    }
  },
  "nbformat": 4,
  "nbformat_minor": 0
}
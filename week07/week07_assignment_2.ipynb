{
  "cells": [
    {
      "cell_type": "markdown",
      "metadata": {
        "id": "view-in-github",
        "colab_type": "text"
      },
      "source": [
        "<a href=\"https://colab.research.google.com/github/001292420/hds5210-2023/blob/main/week07/week07_assignment_2.ipynb\" target=\"_parent\"><img src=\"https://colab.research.google.com/assets/colab-badge.svg\" alt=\"Open In Colab\"/></a>"
      ]
    },
    {
      "cell_type": "markdown",
      "metadata": {
        "id": "AJDUk8ckd9Nk"
      },
      "source": [
        "# Week 7 Assignment\n",
        "\n",
        "We've been working with different types of data structures in Python (dictionary, list, etc), how those are represented in JSON documents, and how to write code to access specific data elements. In this week's assignment, you will need to create your own JSON document to store information about yourself and the grades you've received from week 1 to week 4 and the week 6 quiz.  That is, everything you should have received a grade for.  Then you'll need to show me you know how to navigate the JSON in that file.\n",
        "\n",
        "Different from what we've done in the past, you do not have to write any functions or include any docstrings.  Just create some JSON and write some code.\n",
        "\n",
        "---"
      ]
    },
    {
      "cell_type": "markdown",
      "metadata": {
        "id": "KWXzR0yNd9Nk"
      },
      "source": [
        "## 7.1 Create a JSON string\n",
        "\n",
        "Create a JSON string that contains your name, email, year you were born, all of the grades you've received back so far, and a comment about what you thought was most challenging on each of those assignments.  This can be any structure you choose, but make sure it uses a dictionary and a list, and has at least two levels of hierarchy.  That is, it can't just be one big long list."
      ]
    },
    {
      "cell_type": "markdown",
      "metadata": {
        "id": "0Nk7xlyGd9Nl"
      },
      "source": [
        "First, explain how your data structure is going to look..."
      ]
    },
    {
      "cell_type": "markdown",
      "metadata": {
        "id": "RiT9Vk7rd9Nl"
      },
      "source": [
        "* Put your explanation here in text..."
      ]
    },
    {
      "cell_type": "markdown",
      "source": [],
      "metadata": {
        "id": "2ZuZyJY9gT4A"
      }
    },
    {
      "cell_type": "markdown",
      "source": [
        "The JSON structure provided is a data standard for storing student information. It consists of multiple key-value pairs, each with its own set of data. The \"name\" key contains the student's name as a string, the \"email id\" key provides the student's email address, and the \"year of birth\" key has the student's year of birth, all of which are strings.The JSON structure contains an array of objects labeled \"grades received.\" This array is intended to store information on a student's academic performance, such as assignments . Each object in the array has three key-value pairs: \"assignment,\" which contains the name of a specific assignment ; \"grades,\" which contains the grades received for that assignment as a string; and \"challenge,\" which contains a textual description of the challenge or task associated with that assignment .\n"
      ],
      "metadata": {
        "id": "GyEu6eEWeHgy"
      }
    },
    {
      "cell_type": "markdown",
      "metadata": {
        "id": "LTwd8t6Ed9Nl"
      },
      "source": [
        "Then put the actual JSON you've created inside the multiline string below..."
      ]
    },
    {
      "cell_type": "code",
      "execution_count": 12,
      "metadata": {
        "id": "Pde9CZEOd9Nl"
      },
      "outputs": [],
      "source": [
        "\n",
        "hds5210 = \"\"\"\n",
        "{\n",
        "  \"name\": \"sahithi kalapala\",\n",
        "  \"email id\": \"skalapala@slu.edu\",\n",
        "  \"year of birth\": \"2002\",\n",
        "  \"grades received\": [\n",
        "    {\n",
        "      \"assignment\": \"week 1\",\n",
        "      \"grades\": \"10/10\",\n",
        "      \"challenge\": \"Introducing myself with Google Colab and Github\"\n",
        "    },\n",
        "    {\n",
        "      \"assignment\": \"week 2\",\n",
        "      \"grades\": \"9/10\",\n",
        "      \"challenge\": \"Finding appropriate variable names\"\n",
        "    },\n",
        "    {\n",
        "      \"assignment\": \"week 3\",\n",
        "      \"grades\": \"10/10\",\n",
        "      \"challenge\": \"Using correct function Implementation and Parameter order\"\n",
        "    },\n",
        "    {\n",
        "      \"assignment\": \"week 4\",\n",
        "      \"grades\": \"9/10\",\n",
        "      \"challenge\": \"Using appropriate data structure and implementing the correct logic\"\n",
        "    },\n",
        "    {\n",
        "      \"assignment\": \"week 6 Quiz\",\n",
        "      \"grades\": \"5/20\",\n",
        "      \"challenge\": \"Found difficult to write  the doc strings\"\n",
        "    }\n",
        "  ]\n",
        "}\n",
        "\"\"\""
      ]
    },
    {
      "cell_type": "markdown",
      "metadata": {
        "id": "NrueNkCfd9Nl"
      },
      "source": [
        "## 7.2 Do something with your JSON\n",
        "\n",
        "Now use Python code to do something with the Json above.  Turn it into English text, but make sure that you use at least one loop to access some dict or list content of your JSON.  Below, I've provided some basic code to read in the string above as JSON and return a Python object.  Your job is to work with that data structure and print out the important information like your name, email, and how you did on each assignment."
      ]
    },
    {
      "cell_type": "code",
      "execution_count": 13,
      "metadata": {
        "id": "FgRUXnfjd9Nl",
        "outputId": "e62402dc-9119-42ff-e39d-3272634108e6",
        "colab": {
          "base_uri": "https://localhost:8080/"
        }
      },
      "outputs": [
        {
          "output_type": "stream",
          "name": "stdout",
          "text": [
            "Name: sahithi kalapala\n",
            "Email: skalapala@slu.edu\n",
            "Year of Birth: 2002\n",
            "Assignment: week 1\n",
            "Grade: 10/10\n",
            "Challenge: Introducing myself with Google Colab and Github\n",
            "\n",
            "Assignment: week 2\n",
            "Grade: 9/10\n",
            "Challenge: Finding appropriate variable names\n",
            "\n",
            "Assignment: week 3\n",
            "Grade: 10/10\n",
            "Challenge: Using correct function Implementation and Parameter order\n",
            "\n",
            "Assignment: week 4\n",
            "Grade: 9/10\n",
            "Challenge: Using appropriate data structure and implementing the correct logic\n",
            "\n",
            "Assignment: week 6 Quiz\n",
            "Grade: 5/20\n",
            "Challenge: Found difficult to write  the doc strings\n",
            "\n"
          ]
        }
      ],
      "source": [
        "import json\n",
        "\n",
        "info = json.loads(hds5210)\n",
        "\n",
        "name = info[\"name\"]\n",
        "email = info[\"email id\"]\n",
        "year_of_birth = info[\"year of birth\"]\n",
        "grades_received = info[\"grades received\"]\n",
        "\n",
        "print(f\"Name: {name}\")\n",
        "print(f\"Email: {email}\")\n",
        "print(f\"Year of Birth: {year_of_birth}\")\n",
        "\n",
        "for grade in grades_received:\n",
        "    assignment = grade[\"assignment\"]\n",
        "    grade_value = grade[\"grades\"]\n",
        "    challenge = grade[\"challenge\"]\n",
        "    print(f\"Assignment: {assignment}\")\n",
        "    print(f\"Grade: {grade_value}\")\n",
        "    print(f\"Challenge: {challenge}\\n\")"
      ]
    },
    {
      "cell_type": "markdown",
      "metadata": {
        "id": "a1cyYnUmd9Nl"
      },
      "source": [
        "## 7.3 Reflect\n",
        "\n",
        "Write a paragraph on any reflections you have. Was this hard? Easy?  What parts were most challenging or easiest? What did you like or dislike about the assignment?  Share whatever important thoughts you have abou this assignment."
      ]
    },
    {
      "cell_type": "markdown",
      "metadata": {
        "id": "uVt0yNRNd9Nl"
      },
      "source": [
        "* Put your response here"
      ]
    },
    {
      "cell_type": "markdown",
      "source": [
        "The week 7 assignment is easy when compared to before weeks. I found very intresting and easy to write json string ."
      ],
      "metadata": {
        "id": "as9ZynYDffwo"
      }
    },
    {
      "cell_type": "markdown",
      "metadata": {
        "id": "aPOjpA_1d9Nm"
      },
      "source": [
        "---\n",
        "\n",
        "# Example\n",
        "\n",
        "Below is an example of something similar, but this uses information my and my friend's kids instead of grades."
      ]
    },
    {
      "cell_type": "code",
      "execution_count": 14,
      "metadata": {
        "id": "T5ENvPPNd9Nm",
        "outputId": "69c9a17e-bdaf-479b-ef99-559733dfbae9",
        "colab": {
          "base_uri": "https://localhost:8080/"
        }
      },
      "outputs": [
        {
          "output_type": "stream",
          "name": "stdout",
          "text": [
            "Hi, my name is Paul. I've got 3 kids. Their names are Ellie, Ada, Teddy.\n",
            "My friend, Anny has 1 kids. That's fewer than me. Their names are 1\n"
          ]
        }
      ],
      "source": [
        "hds5210 = \"\"\"\n",
        "{\n",
        "    \"me\": {\n",
        "        \"name\": \"Paul\",\n",
        "        \"kids\": [\"Ellie\", \"Ada\", \"Teddy\"]\n",
        "    },\n",
        "    \"friend\": {\n",
        "        \"name\": \"Anny\",\n",
        "        \"kids\": [\"Abby\"]\n",
        "    }\n",
        "}\n",
        "\"\"\"\n",
        "\n",
        "import json\n",
        "\n",
        "info = json.loads(hds5210)\n",
        "\n",
        "me = info[\"me\"][\"name\"]\n",
        "my_kids_count = len(info[\"me\"][\"kids\"])\n",
        "kids_list = \", \".join(info[\"me\"][\"kids\"])\n",
        "friend = info[\"friend\"][\"name\"]\n",
        "friends_kid_count = len(info[\"friend\"][\"kids\"])\n",
        "friend_kids = \", \".join(info[\"friend\"][\"kids\"])\n",
        "compare = \"more\" if friends_kid_count > my_kids_count else \"fewer\"\n",
        "\n",
        "print(f\"Hi, my name is {me}. I've got {my_kids_count} kids. Their names are {kids_list}.\")\n",
        "print(f\"My friend, {friend} has {friends_kid_count} kids. That's {compare} than me. Their names are {friends_kid_count}\")"
      ]
    }
  ],
  "metadata": {
    "kernelspec": {
      "display_name": "Python 3",
      "language": "python",
      "name": "python3"
    },
    "language_info": {
      "codemirror_mode": {
        "name": "ipython",
        "version": 3
      },
      "file_extension": ".py",
      "mimetype": "text/x-python",
      "name": "python",
      "nbconvert_exporter": "python",
      "pygments_lexer": "ipython3",
      "version": "3.9.16"
    },
    "colab": {
      "provenance": [],
      "include_colab_link": true
    }
  },
  "nbformat": 4,
  "nbformat_minor": 0
}